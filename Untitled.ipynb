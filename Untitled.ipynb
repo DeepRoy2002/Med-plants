{
 "cells": [
  {
   "cell_type": "code",
   "execution_count": 1,
   "id": "fd234248",
   "metadata": {},
   "outputs": [],
   "source": [
    "import numpy as np\n",
    "import pandas as pd\n",
    "import matplotlib.pyplot as plt"
   ]
  },
  {
   "cell_type": "code",
   "execution_count": null,
   "id": "006344cc",
   "metadata": {},
   "outputs": [],
   "source": [
    "import torch\n",
    "from torchvision import datasets, transforms, models  # datsets  , transforms\n",
    "from torch.utils.data.sampler import SubsetRandomSampler\n",
    "import torch.nn as nn\n",
    "import torch.nn.functional as F\n",
    "from datetime import datetime"
   ]
  },
  {
   "cell_type": "code",
   "execution_count": null,
   "id": "9f0507a4",
   "metadata": {},
   "outputs": [],
   "source": [
    "import os\n",
    "\n",
    "def create_plant_list(base_directory):\n",
    "    \"\"\"\n",
    "    Create a list of tuples where each tuple contains a plant label and its folder path.\n",
    "\n",
    "    Parameters:\n",
    "        base_directory (str): The path to the main directory containing medicinal plant folders.\n",
    "\n",
    "    Returns:\n",
    "        list: A list of tuples where each tuple contains a plant label and folder path.\n",
    "    \"\"\"\n",
    "    plant_list = []\n",
    "    for root, dirs, files in os.walk(base_directory):\n",
    "        for dir_name in dirs:\n",
    "            plant_label = dir_name\n",
    "            folder_path = os.path.join(root, dir_name)\n",
    "            plant_list.append((plant_label, folder_path))\n",
    "    return plant_list\n",
    "\n",
    "# Replace 'your_base_directory' with the path to your main directory containing the medicinal plant folders.\n",
    "base_directory = 'C:\\\\Users\\\\anirb\\\\SMART INDIA HACKATHON\\\\MepcoTropicLeaf-V1\\\\Database'\n",
    "\n",
    "# Call the function to create the list of tuples.\n",
    "plant_list = create_plant_list(base_directory)\n",
    "\n",
    "# Now, 'plant_list' contains a list of tuples where each tuple contains a plant label and folder path.\n",
    "# You can access the data using indexing, for example: plant_list[0] to get the first tuple.\n"
   ]
  },
  {
   "cell_type": "code",
   "execution_count": null,
   "id": "b264d7eb",
   "metadata": {},
   "outputs": [],
   "source": []
  },
  {
   "cell_type": "code",
   "execution_count": null,
   "id": "f152037e",
   "metadata": {},
   "outputs": [],
   "source": []
  },
  {
   "cell_type": "code",
   "execution_count": null,
   "id": "f4e1bbab",
   "metadata": {},
   "outputs": [],
   "source": []
  },
  {
   "cell_type": "code",
   "execution_count": null,
   "id": "e6525c0a",
   "metadata": {},
   "outputs": [],
   "source": []
  },
  {
   "cell_type": "code",
   "execution_count": null,
   "id": "90243248",
   "metadata": {},
   "outputs": [],
   "source": []
  },
  {
   "cell_type": "code",
   "execution_count": null,
   "id": "fe79b439",
   "metadata": {},
   "outputs": [],
   "source": []
  },
  {
   "cell_type": "code",
   "execution_count": null,
   "id": "534b2e7a",
   "metadata": {},
   "outputs": [],
   "source": []
  },
  {
   "cell_type": "code",
   "execution_count": null,
   "id": "160918cd",
   "metadata": {},
   "outputs": [],
   "source": []
  },
  {
   "cell_type": "code",
   "execution_count": null,
   "id": "baed7723",
   "metadata": {},
   "outputs": [],
   "source": []
  },
  {
   "cell_type": "code",
   "execution_count": null,
   "id": "fb23ac36",
   "metadata": {},
   "outputs": [],
   "source": []
  },
  {
   "cell_type": "code",
   "execution_count": null,
   "id": "0418437a",
   "metadata": {},
   "outputs": [],
   "source": []
  },
  {
   "cell_type": "code",
   "execution_count": null,
   "id": "4303b8fc",
   "metadata": {},
   "outputs": [],
   "source": []
  },
  {
   "cell_type": "code",
   "execution_count": null,
   "id": "4a2422c5",
   "metadata": {},
   "outputs": [],
   "source": []
  }
 ],
 "metadata": {
  "kernelspec": {
   "display_name": "Python 3 (ipykernel)",
   "language": "python",
   "name": "python3"
  },
  "language_info": {
   "codemirror_mode": {
    "name": "ipython",
    "version": 3
   },
   "file_extension": ".py",
   "mimetype": "text/x-python",
   "name": "python",
   "nbconvert_exporter": "python",
   "pygments_lexer": "ipython3",
   "version": "3.9.12"
  }
 },
 "nbformat": 4,
 "nbformat_minor": 5
}
