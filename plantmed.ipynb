{
 "cells": [
  {
   "cell_type": "markdown",
   "metadata": {},
   "source": [
    "### Import Dependencies"
   ]
  },
  {
   "cell_type": "code",
   "execution_count": 1,
   "metadata": {
    "execution": {
     "iopub.execute_input": "2023-09-16T18:51:17.439555Z",
     "iopub.status.busy": "2023-09-16T18:51:17.439127Z",
     "iopub.status.idle": "2023-09-16T18:51:17.467469Z",
     "shell.execute_reply": "2023-09-16T18:51:17.466444Z",
     "shell.execute_reply.started": "2023-09-16T18:51:17.439466Z"
    }
   },
   "outputs": [],
   "source": [
    "import numpy as np\n",
    "import pandas as pd\n",
    "import matplotlib.pyplot as plt"
   ]
  },
  {
   "cell_type": "code",
   "execution_count": 2,
   "metadata": {
    "execution": {
     "iopub.execute_input": "2023-09-16T18:51:17.955638Z",
     "iopub.status.busy": "2023-09-16T18:51:17.954937Z",
     "iopub.status.idle": "2023-09-16T18:51:20.099441Z",
     "shell.execute_reply": "2023-09-16T18:51:20.097714Z",
     "shell.execute_reply.started": "2023-09-16T18:51:17.955593Z"
    }
   },
   "outputs": [],
   "source": [
    "import torch\n",
    "from torchvision import datasets, transforms, models  # datsets  , transforms\n",
    "from torch.utils.data.sampler import SubsetRandomSampler\n",
    "import torch.nn as nn\n",
    "import torch.nn.functional as F\n",
    "from datetime import datetime"
   ]
  },
  {
   "cell_type": "code",
   "execution_count": 3,
   "metadata": {},
   "outputs": [],
   "source": [
    "import os\n",
    "\n",
    "def create_plant_dictionary(base_directory):\n",
    "    \"\"\"\n",
    "    Create a dictionary mapping medicinal plant labels to their folder paths.\n",
    "\n",
    "    Parameters:\n",
    "        base_directory (str): The path to the main directory containing medicinal plant folders.\n",
    "\n",
    "    Returns:\n",
    "        dict: A dictionary where keys are plant labels and values are folder paths.\n",
    "    \"\"\"\n",
    "    plant_dictionary = {}\n",
    "    for root, dirs, files in os.walk(base_directory):\n",
    "        for dir_name in dirs:\n",
    "            plant_label = dir_name\n",
    "            folder_path = os.path.join(root, dir_name)\n",
    "            plant_dictionary[plant_label] = folder_path\n",
    "    return plant_dictionary\n",
    "\n",
    "# Replace 'your_base_directory' with the path to your main directory containing the medicinal plant folders.\n",
    "base_directory = 'C:\\\\Users\\\\anirb\\\\SMART INDIA HACKATHON\\\\MepcoTropicLeaf-V1\\\\Database'\n",
    "\n",
    "# Call the function to create the dictionary.\n",
    "plant_dict = create_plant_dictionary(base_directory)\n",
    "\n",
    "# Now, 'plant_dict' contains the mapping of labels to folder paths.\n",
    "# You can access folder paths using labels as keys in the dictionary.\n"
   ]
  },
  {
   "cell_type": "markdown",
   "metadata": {},
   "source": [
    "### Import Dataset"
   ]
  },
  {
   "cell_type": "markdown",
   "metadata": {},
   "source": [
    "<b> Dataset Link (Plant Vliiage Dataset ):</b><br> <a href='https://data.mendeley.com/datasets/tywbtsjrjv/1'> https://data.mendeley.com/datasets/tywbtsjrjv/1 </a> "
   ]
  },
  {
   "cell_type": "code",
   "execution_count": 4,
   "metadata": {
    "execution": {
     "iopub.execute_input": "2023-09-16T18:51:27.804678Z",
     "iopub.status.busy": "2023-09-16T18:51:27.804142Z",
     "iopub.status.idle": "2023-09-16T18:51:27.812211Z",
     "shell.execute_reply": "2023-09-16T18:51:27.809929Z",
     "shell.execute_reply.started": "2023-09-16T18:51:27.804642Z"
    }
   },
   "outputs": [],
   "source": [
    "transform2 = transforms.Compose([\n",
    "    transforms.Resize((299, 299)),  \n",
    "    transforms.ToTensor(),          \n",
    "    transforms.Normalize(\n",
    "        mean=[0.5, 0.5, 0.5],      \n",
    "        std=[0.5, 0.5, 0.5]         \n",
    "    )\n",
    "])"
   ]
  },
  {
   "cell_type": "code",
   "execution_count": 5,
   "metadata": {
    "execution": {
     "iopub.execute_input": "2023-09-16T18:51:41.775662Z",
     "iopub.status.busy": "2023-09-16T18:51:41.775287Z",
     "iopub.status.idle": "2023-09-16T18:51:42.218527Z",
     "shell.execute_reply": "2023-09-16T18:51:42.217134Z",
     "shell.execute_reply.started": "2023-09-16T18:51:41.775628Z"
    }
   },
   "outputs": [],
   "source": [
    "#dataset = datasets.ImageFolder(\"C:\\Users\\anirb\\SMART INDIA HACKATHON\\MepcoTropicLeaf-V1\\Database\", transform=transform2)\n",
    "dataset=plant_dict"
   ]
  },
  {
   "cell_type": "code",
   "execution_count": 6,
   "metadata": {
    "execution": {
     "iopub.execute_input": "2023-09-16T18:51:43.575484Z",
     "iopub.status.busy": "2023-09-16T18:51:43.574769Z",
     "iopub.status.idle": "2023-09-16T18:51:43.583938Z",
     "shell.execute_reply": "2023-09-16T18:51:43.582861Z",
     "shell.execute_reply.started": "2023-09-16T18:51:43.575447Z"
    }
   },
   "outputs": [
    {
     "data": {
      "text/plain": [
       "{'Asthma Plant.zip': 'C:\\\\Users\\\\anirb\\\\SMART INDIA HACKATHON\\\\MepcoTropicLeaf-V1\\\\Database\\\\Asthma Plant.zip',\n",
       " 'Avaram.zip': 'C:\\\\Users\\\\anirb\\\\SMART INDIA HACKATHON\\\\MepcoTropicLeaf-V1\\\\Database\\\\Avaram.zip',\n",
       " 'Balloon vine.zip': 'C:\\\\Users\\\\anirb\\\\SMART INDIA HACKATHON\\\\MepcoTropicLeaf-V1\\\\Database\\\\Balloon vine.zip',\n",
       " 'Bellyache bush (Green).zip': 'C:\\\\Users\\\\anirb\\\\SMART INDIA HACKATHON\\\\MepcoTropicLeaf-V1\\\\Database\\\\Bellyache bush (Green).zip',\n",
       " 'Benghal dayflower.zip': 'C:\\\\Users\\\\anirb\\\\SMART INDIA HACKATHON\\\\MepcoTropicLeaf-V1\\\\Database\\\\Benghal dayflower.zip',\n",
       " 'Big Caltrops.zip': 'C:\\\\Users\\\\anirb\\\\SMART INDIA HACKATHON\\\\MepcoTropicLeaf-V1\\\\Database\\\\Big Caltrops.zip',\n",
       " 'Black-Honey Shrub.zip': 'C:\\\\Users\\\\anirb\\\\SMART INDIA HACKATHON\\\\MepcoTropicLeaf-V1\\\\Database\\\\Black-Honey Shrub.zip',\n",
       " 'Bristly Wild Grape.zip': 'C:\\\\Users\\\\anirb\\\\SMART INDIA HACKATHON\\\\MepcoTropicLeaf-V1\\\\Database\\\\Bristly Wild Grape.zip',\n",
       " 'Butterfly Pea.zip': 'C:\\\\Users\\\\anirb\\\\SMART INDIA HACKATHON\\\\MepcoTropicLeaf-V1\\\\Database\\\\Butterfly Pea.zip',\n",
       " 'Cape Gooseberry.zip': 'C:\\\\Users\\\\anirb\\\\SMART INDIA HACKATHON\\\\MepcoTropicLeaf-V1\\\\Database\\\\Cape Gooseberry.zip',\n",
       " 'coatbuttons.zip': 'C:\\\\Users\\\\anirb\\\\SMART INDIA HACKATHON\\\\MepcoTropicLeaf-V1\\\\Database\\\\coatbuttons.zip',\n",
       " 'Common Wireweed.zip': 'C:\\\\Users\\\\anirb\\\\SMART INDIA HACKATHON\\\\MepcoTropicLeaf-V1\\\\Database\\\\Common Wireweed.zip',\n",
       " 'Country Mallow.zip': 'C:\\\\Users\\\\anirb\\\\SMART INDIA HACKATHON\\\\MepcoTropicLeaf-V1\\\\Database\\\\Country Mallow.zip',\n",
       " 'Crown flower.zip': 'C:\\\\Users\\\\anirb\\\\SMART INDIA HACKATHON\\\\MepcoTropicLeaf-V1\\\\Database\\\\Crown flower.zip',\n",
       " 'Green Chireta.zip': 'C:\\\\Users\\\\anirb\\\\SMART INDIA HACKATHON\\\\MepcoTropicLeaf-V1\\\\Database\\\\Green Chireta.zip',\n",
       " 'heart-leaved moonseed.zip': 'C:\\\\Users\\\\anirb\\\\SMART INDIA HACKATHON\\\\MepcoTropicLeaf-V1\\\\Database\\\\heart-leaved moonseed.zip',\n",
       " 'Holy Basil.zip': 'C:\\\\Users\\\\anirb\\\\SMART INDIA HACKATHON\\\\MepcoTropicLeaf-V1\\\\Database\\\\Holy Basil.zip',\n",
       " 'Indian CopperLeaf.zip': 'C:\\\\Users\\\\anirb\\\\SMART INDIA HACKATHON\\\\MepcoTropicLeaf-V1\\\\Database\\\\Indian CopperLeaf.zip',\n",
       " 'Indian Jujube.zip': 'C:\\\\Users\\\\anirb\\\\SMART INDIA HACKATHON\\\\MepcoTropicLeaf-V1\\\\Database\\\\Indian Jujube.zip',\n",
       " 'Indian Sarsaparilla.zip': 'C:\\\\Users\\\\anirb\\\\SMART INDIA HACKATHON\\\\MepcoTropicLeaf-V1\\\\Database\\\\Indian Sarsaparilla.zip',\n",
       " 'Indian Stinging Nettle.zip': 'C:\\\\Users\\\\anirb\\\\SMART INDIA HACKATHON\\\\MepcoTropicLeaf-V1\\\\Database\\\\Indian Stinging Nettle.zip',\n",
       " 'Indian Thornapple.zip': 'C:\\\\Users\\\\anirb\\\\SMART INDIA HACKATHON\\\\MepcoTropicLeaf-V1\\\\Database\\\\Indian Thornapple.zip',\n",
       " 'Indian wormwood.zip': 'C:\\\\Users\\\\anirb\\\\SMART INDIA HACKATHON\\\\MepcoTropicLeaf-V1\\\\Database\\\\Indian wormwood.zip',\n",
       " 'Ivy Gourd.zip': 'C:\\\\Users\\\\anirb\\\\SMART INDIA HACKATHON\\\\MepcoTropicLeaf-V1\\\\Database\\\\Ivy Gourd.zip',\n",
       " 'Kokilaksha.zip': 'C:\\\\Users\\\\anirb\\\\SMART INDIA HACKATHON\\\\MepcoTropicLeaf-V1\\\\Database\\\\Kokilaksha.zip',\n",
       " 'Land Caltrops (Bindii).zip': 'C:\\\\Users\\\\anirb\\\\SMART INDIA HACKATHON\\\\MepcoTropicLeaf-V1\\\\Database\\\\Land Caltrops (Bindii).zip',\n",
       " 'Madagascar Periwinkle.zip': 'C:\\\\Users\\\\anirb\\\\SMART INDIA HACKATHON\\\\MepcoTropicLeaf-V1\\\\Database\\\\Madagascar Periwinkle.zip',\n",
       " 'Madras Pea Pumpkin.zip': 'C:\\\\Users\\\\anirb\\\\SMART INDIA HACKATHON\\\\MepcoTropicLeaf-V1\\\\Database\\\\Madras Pea Pumpkin.zip',\n",
       " 'Malabar Catmint.zip': 'C:\\\\Users\\\\anirb\\\\SMART INDIA HACKATHON\\\\MepcoTropicLeaf-V1\\\\Database\\\\Malabar Catmint.zip',\n",
       " 'Mexican Mint.zip': 'C:\\\\Users\\\\anirb\\\\SMART INDIA HACKATHON\\\\MepcoTropicLeaf-V1\\\\Database\\\\Mexican Mint.zip',\n",
       " 'Mexican Prickly Poppy.zip': 'C:\\\\Users\\\\anirb\\\\SMART INDIA HACKATHON\\\\MepcoTropicLeaf-V1\\\\Database\\\\Mexican Prickly Poppy.zip',\n",
       " 'Mountain Knotgrass.zip': 'C:\\\\Users\\\\anirb\\\\SMART INDIA HACKATHON\\\\MepcoTropicLeaf-V1\\\\Database\\\\Mountain Knotgrass.zip',\n",
       " 'Nalta Jute.zip': 'C:\\\\Users\\\\anirb\\\\SMART INDIA HACKATHON\\\\MepcoTropicLeaf-V1\\\\Database\\\\Nalta Jute.zip',\n",
       " 'Night blooming Cereus.zip': 'C:\\\\Users\\\\anirb\\\\SMART INDIA HACKATHON\\\\MepcoTropicLeaf-V1\\\\Database\\\\Night blooming Cereus.zip',\n",
       " 'Panicled Foldwing.zip': 'C:\\\\Users\\\\anirb\\\\SMART INDIA HACKATHON\\\\MepcoTropicLeaf-V1\\\\Database\\\\Panicled Foldwing.zip',\n",
       " 'Prickly Chaff Flower.zip': 'C:\\\\Users\\\\anirb\\\\SMART INDIA HACKATHON\\\\MepcoTropicLeaf-V1\\\\Database\\\\Prickly Chaff Flower.zip',\n",
       " 'Punarnava.zip': 'C:\\\\Users\\\\anirb\\\\SMART INDIA HACKATHON\\\\MepcoTropicLeaf-V1\\\\Database\\\\Punarnava.zip',\n",
       " 'Purple Fruited Pea Eggplant.zip': 'C:\\\\Users\\\\anirb\\\\SMART INDIA HACKATHON\\\\MepcoTropicLeaf-V1\\\\Database\\\\Purple Fruited Pea Eggplant.zip',\n",
       " 'Purple Tephrosia.zip': 'C:\\\\Users\\\\anirb\\\\SMART INDIA HACKATHON\\\\MepcoTropicLeaf-V1\\\\Database\\\\Purple Tephrosia.zip',\n",
       " 'Rosary Pea.zip': 'C:\\\\Users\\\\anirb\\\\SMART INDIA HACKATHON\\\\MepcoTropicLeaf-V1\\\\Database\\\\Rosary Pea.zip',\n",
       " 'Shaggy button weed.zip': 'C:\\\\Users\\\\anirb\\\\SMART INDIA HACKATHON\\\\MepcoTropicLeaf-V1\\\\Database\\\\Shaggy button weed.zip',\n",
       " 'Small Water Clover.zip': 'C:\\\\Users\\\\anirb\\\\SMART INDIA HACKATHON\\\\MepcoTropicLeaf-V1\\\\Database\\\\Small Water Clover.zip',\n",
       " 'Spiderwisp.zip': 'C:\\\\Users\\\\anirb\\\\SMART INDIA HACKATHON\\\\MepcoTropicLeaf-V1\\\\Database\\\\Spiderwisp.zip',\n",
       " 'Square Stalked Vine.zip': 'C:\\\\Users\\\\anirb\\\\SMART INDIA HACKATHON\\\\MepcoTropicLeaf-V1\\\\Database\\\\Square Stalked Vine.zip',\n",
       " 'Stinking Passionflower.zip': 'C:\\\\Users\\\\anirb\\\\SMART INDIA HACKATHON\\\\MepcoTropicLeaf-V1\\\\Database\\\\Stinking Passionflower.zip',\n",
       " 'Sweet Basil.zip': 'C:\\\\Users\\\\anirb\\\\SMART INDIA HACKATHON\\\\MepcoTropicLeaf-V1\\\\Database\\\\Sweet Basil.zip',\n",
       " 'Sweet flag.zip': 'C:\\\\Users\\\\anirb\\\\SMART INDIA HACKATHON\\\\MepcoTropicLeaf-V1\\\\Database\\\\Sweet flag.zip',\n",
       " 'Tinnevelly Senna.zip': 'C:\\\\Users\\\\anirb\\\\SMART INDIA HACKATHON\\\\MepcoTropicLeaf-V1\\\\Database\\\\Tinnevelly Senna.zip',\n",
       " 'Trellis Vine.zip': 'C:\\\\Users\\\\anirb\\\\SMART INDIA HACKATHON\\\\MepcoTropicLeaf-V1\\\\Database\\\\Trellis Vine.zip',\n",
       " 'Velvet bean.zip': 'C:\\\\Users\\\\anirb\\\\SMART INDIA HACKATHON\\\\MepcoTropicLeaf-V1\\\\Database\\\\Velvet bean.zip'}"
      ]
     },
     "execution_count": 6,
     "metadata": {},
     "output_type": "execute_result"
    }
   ],
   "source": [
    "dataset"
   ]
  },
  {
   "cell_type": "code",
   "execution_count": 7,
   "metadata": {
    "execution": {
     "iopub.execute_input": "2023-09-16T18:51:49.061603Z",
     "iopub.status.busy": "2023-09-16T18:51:49.061217Z",
     "iopub.status.idle": "2023-09-16T18:51:49.067202Z",
     "shell.execute_reply": "2023-09-16T18:51:49.066155Z",
     "shell.execute_reply.started": "2023-09-16T18:51:49.061571Z"
    }
   },
   "outputs": [],
   "source": [
    "indices = list(range(len(dataset)))"
   ]
  },
  {
   "cell_type": "code",
   "execution_count": 8,
   "metadata": {},
   "outputs": [
    {
     "data": {
      "text/plain": [
       "50"
      ]
     },
     "execution_count": 8,
     "metadata": {},
     "output_type": "execute_result"
    }
   ],
   "source": [
    "len(dataset)"
   ]
  },
  {
   "cell_type": "code",
   "execution_count": 9,
   "metadata": {
    "execution": {
     "iopub.execute_input": "2023-09-16T19:07:44.260883Z",
     "iopub.status.busy": "2023-09-16T19:07:44.260430Z",
     "iopub.status.idle": "2023-09-16T19:07:44.266153Z",
     "shell.execute_reply": "2023-09-16T19:07:44.265160Z",
     "shell.execute_reply.started": "2023-09-16T19:07:44.260822Z"
    }
   },
   "outputs": [],
   "source": [
    "split = int(np.floor(0.70 * len(dataset)))  # train_size"
   ]
  },
  {
   "cell_type": "code",
   "execution_count": 10,
   "metadata": {
    "execution": {
     "iopub.execute_input": "2023-09-16T18:51:52.534990Z",
     "iopub.status.busy": "2023-09-16T18:51:52.534561Z",
     "iopub.status.idle": "2023-09-16T18:51:52.540408Z",
     "shell.execute_reply": "2023-09-16T18:51:52.539199Z",
     "shell.execute_reply.started": "2023-09-16T18:51:52.534953Z"
    }
   },
   "outputs": [],
   "source": [
    "validation = int(np.floor(0.60 * split))  # validation"
   ]
  },
  {
   "cell_type": "code",
   "execution_count": 11,
   "metadata": {
    "execution": {
     "iopub.execute_input": "2023-09-16T19:07:47.530092Z",
     "iopub.status.busy": "2023-09-16T19:07:47.529515Z",
     "iopub.status.idle": "2023-09-16T19:07:47.536031Z",
     "shell.execute_reply": "2023-09-16T19:07:47.534909Z",
     "shell.execute_reply.started": "2023-09-16T19:07:47.530055Z"
    }
   },
   "outputs": [
    {
     "name": "stdout",
     "output_type": "stream",
     "text": [
      "0 21 35 50\n"
     ]
    }
   ],
   "source": [
    "print(0, validation, split, len(dataset))"
   ]
  },
  {
   "cell_type": "code",
   "execution_count": 12,
   "metadata": {
    "execution": {
     "iopub.execute_input": "2023-09-16T19:07:50.110201Z",
     "iopub.status.busy": "2023-09-16T19:07:50.109377Z",
     "iopub.status.idle": "2023-09-16T19:07:50.119736Z",
     "shell.execute_reply": "2023-09-16T19:07:50.117753Z",
     "shell.execute_reply.started": "2023-09-16T19:07:50.110142Z"
    }
   },
   "outputs": [
    {
     "name": "stdout",
     "output_type": "stream",
     "text": [
      "length of train size :21\n",
      "length of validation size :14\n",
      "length of test size :29\n"
     ]
    }
   ],
   "source": [
    "print(f\"length of train size :{validation}\")\n",
    "print(f\"length of validation size :{split - validation}\")\n",
    "print(f\"length of test size :{len(dataset)-validation}\")"
   ]
  },
  {
   "cell_type": "code",
   "execution_count": 13,
   "metadata": {
    "execution": {
     "iopub.execute_input": "2023-09-16T18:51:55.215353Z",
     "iopub.status.busy": "2023-09-16T18:51:55.214214Z",
     "iopub.status.idle": "2023-09-16T18:51:55.221123Z",
     "shell.execute_reply": "2023-09-16T18:51:55.220049Z",
     "shell.execute_reply.started": "2023-09-16T18:51:55.215301Z"
    }
   },
   "outputs": [],
   "source": [
    "np.random.shuffle(indices)"
   ]
  },
  {
   "cell_type": "markdown",
   "metadata": {},
   "source": [
    "### Split into Train and Test"
   ]
  },
  {
   "cell_type": "code",
   "execution_count": 14,
   "metadata": {
    "execution": {
     "iopub.execute_input": "2023-09-16T19:07:59.336009Z",
     "iopub.status.busy": "2023-09-16T19:07:59.335591Z",
     "iopub.status.idle": "2023-09-16T19:07:59.341584Z",
     "shell.execute_reply": "2023-09-16T19:07:59.340617Z",
     "shell.execute_reply.started": "2023-09-16T19:07:59.335972Z"
    }
   },
   "outputs": [],
   "source": [
    "train_indices, validation_indices, test_indices = (\n",
    "    indices[:validation],\n",
    "    indices[validation:split],\n",
    "    indices[split:],\n",
    ")"
   ]
  },
  {
   "cell_type": "code",
   "execution_count": 15,
   "metadata": {
    "execution": {
     "iopub.execute_input": "2023-09-16T19:08:01.292490Z",
     "iopub.status.busy": "2023-09-16T19:08:01.292106Z",
     "iopub.status.idle": "2023-09-16T19:08:01.298349Z",
     "shell.execute_reply": "2023-09-16T19:08:01.297310Z",
     "shell.execute_reply.started": "2023-09-16T19:08:01.292456Z"
    }
   },
   "outputs": [],
   "source": [
    "train_sampler = SubsetRandomSampler(train_indices)\n",
    "validation_sampler = SubsetRandomSampler(validation_indices)\n",
    "test_sampler = SubsetRandomSampler(test_indices)"
   ]
  },
  {
   "cell_type": "code",
   "execution_count": 16,
   "metadata": {
    "execution": {
     "iopub.execute_input": "2023-09-16T18:52:05.974459Z",
     "iopub.status.busy": "2023-09-16T18:52:05.974048Z",
     "iopub.status.idle": "2023-09-16T18:52:05.980852Z",
     "shell.execute_reply": "2023-09-16T18:52:05.979737Z",
     "shell.execute_reply.started": "2023-09-16T18:52:05.974423Z"
    }
   },
   "outputs": [
    {
     "ename": "AttributeError",
     "evalue": "'dict' object has no attribute 'class_to_idx'",
     "output_type": "error",
     "traceback": [
      "\u001b[1;31m---------------------------------------------------------------------------\u001b[0m",
      "\u001b[1;31mAttributeError\u001b[0m                            Traceback (most recent call last)",
      "Input \u001b[1;32mIn [16]\u001b[0m, in \u001b[0;36m<cell line: 5>\u001b[1;34m()\u001b[0m\n\u001b[0;32m      1\u001b[0m class_to_idx \u001b[38;5;241m=\u001b[39m {label: idx \u001b[38;5;28;01mfor\u001b[39;00m idx, label \u001b[38;5;129;01min\u001b[39;00m \u001b[38;5;28menumerate\u001b[39m(plant_dict\u001b[38;5;241m.\u001b[39mkeys())}\n\u001b[0;32m      3\u001b[0m plant_dict[\u001b[38;5;124m'\u001b[39m\u001b[38;5;124mclass_to_idx\u001b[39m\u001b[38;5;124m'\u001b[39m] \u001b[38;5;241m=\u001b[39m class_to_idx\n\u001b[1;32m----> 5\u001b[0m targets_size \u001b[38;5;241m=\u001b[39m \u001b[38;5;28mlen\u001b[39m(\u001b[43mdataset\u001b[49m\u001b[38;5;241;43m.\u001b[39;49m\u001b[43mclass_to_idx\u001b[49m)\n\u001b[0;32m      6\u001b[0m \u001b[38;5;28mprint\u001b[39m(targets_size)\n",
      "\u001b[1;31mAttributeError\u001b[0m: 'dict' object has no attribute 'class_to_idx'"
     ]
    }
   ],
   "source": [
    "class_to_idx = {label: idx for idx, label in enumerate(plant_dict.keys())}\n",
    "\n",
    "plant_dict['class_to_idx'] = class_to_idx\n",
    "\n",
    "targets_size = len(dataset.class_to_idx)\n",
    "print(targets_size)"
   ]
  },
  {
   "cell_type": "code",
   "execution_count": 82,
   "metadata": {
    "execution": {
     "iopub.execute_input": "2023-09-16T19:53:41.346117Z",
     "iopub.status.busy": "2023-09-16T19:53:41.344302Z",
     "iopub.status.idle": "2023-09-16T19:53:41.353378Z",
     "shell.execute_reply": "2023-09-16T19:53:41.352296Z",
     "shell.execute_reply.started": "2023-09-16T19:53:41.346075Z"
    }
   },
   "outputs": [
    {
     "name": "stdout",
     "output_type": "stream",
     "text": [
      "[0, 1, 2, 3, 4, 5, 6, 7, 8, 9, 10, 11, 12, 13, 14, 15, 16, 17, 18, 19, 20, 21, 22, 23, 24, 25, 26, 27, 28, 29, 30, 31, 32, 33, 34, 35, 36, 37, 38, 39, 40, 41, 42, 43, 44, 45, 46, 47, 48, 49]\n"
     ]
    }
   ],
   "source": [
    "num_classes_list = list(dataset.class_to_idx.values())\n",
    "print(num_classes_list)"
   ]
  },
  {
   "cell_type": "markdown",
   "metadata": {},
   "source": [
    "### Model"
   ]
  },
  {
   "cell_type": "markdown",
   "metadata": {},
   "source": [
    "<b>Convolution Aithmetic Equation : </b>(W - F + 2P) / S + 1 <br>\n",
    "W = Input Size<br>\n",
    "F = Filter Size<br>\n",
    "P = Padding Size<br>\n",
    "S = Stride <br>"
   ]
  },
  {
   "cell_type": "markdown",
   "metadata": {},
   "source": [
    "### Transfer Learning"
   ]
  },
  {
   "cell_type": "code",
   "execution_count": 35,
   "metadata": {
    "execution": {
     "iopub.execute_input": "2023-09-16T18:56:09.579093Z",
     "iopub.status.busy": "2023-09-16T18:56:09.578327Z",
     "iopub.status.idle": "2023-09-16T18:56:11.330482Z",
     "shell.execute_reply": "2023-09-16T18:56:11.329421Z",
     "shell.execute_reply.started": "2023-09-16T18:56:09.579047Z"
    }
   },
   "outputs": [],
   "source": [
    "model = models.vgg16(pretrained=True)"
   ]
  },
  {
   "cell_type": "code",
   "execution_count": 34,
   "metadata": {
    "execution": {
     "iopub.execute_input": "2023-09-16T18:56:06.037989Z",
     "iopub.status.busy": "2023-09-16T18:56:06.037588Z",
     "iopub.status.idle": "2023-09-16T18:56:06.459303Z",
     "shell.execute_reply": "2023-09-16T18:56:06.458265Z",
     "shell.execute_reply.started": "2023-09-16T18:56:06.037952Z"
    }
   },
   "outputs": [],
   "source": [
    "model2 = models.inception_v3(pretrained=True)"
   ]
  },
  {
   "cell_type": "code",
   "execution_count": 39,
   "metadata": {
    "execution": {
     "iopub.execute_input": "2023-09-16T18:58:10.577315Z",
     "iopub.status.busy": "2023-09-16T18:58:10.576939Z",
     "iopub.status.idle": "2023-09-16T18:58:10.582636Z",
     "shell.execute_reply": "2023-09-16T18:58:10.581268Z",
     "shell.execute_reply.started": "2023-09-16T18:58:10.577281Z"
    }
   },
   "outputs": [],
   "source": [
    "for params in model.parameters():\n",
    "   params.requires_grad = False"
   ]
  },
  {
   "cell_type": "code",
   "execution_count": 54,
   "metadata": {
    "execution": {
     "iopub.execute_input": "2023-09-16T19:06:34.034968Z",
     "iopub.status.busy": "2023-09-16T19:06:34.034504Z",
     "iopub.status.idle": "2023-09-16T19:06:34.043170Z",
     "shell.execute_reply": "2023-09-16T19:06:34.042090Z",
     "shell.execute_reply.started": "2023-09-16T19:06:34.034932Z"
    }
   },
   "outputs": [
    {
     "data": {
      "text/plain": [
       "VGG(\n",
       "  (features): Sequential(\n",
       "    (0): Conv2d(3, 64, kernel_size=(3, 3), stride=(1, 1), padding=(1, 1))\n",
       "    (1): ReLU(inplace=True)\n",
       "    (2): Conv2d(64, 64, kernel_size=(3, 3), stride=(1, 1), padding=(1, 1))\n",
       "    (3): ReLU(inplace=True)\n",
       "    (4): MaxPool2d(kernel_size=2, stride=2, padding=0, dilation=1, ceil_mode=False)\n",
       "    (5): Conv2d(64, 128, kernel_size=(3, 3), stride=(1, 1), padding=(1, 1))\n",
       "    (6): ReLU(inplace=True)\n",
       "    (7): Conv2d(128, 128, kernel_size=(3, 3), stride=(1, 1), padding=(1, 1))\n",
       "    (8): ReLU(inplace=True)\n",
       "    (9): MaxPool2d(kernel_size=2, stride=2, padding=0, dilation=1, ceil_mode=False)\n",
       "    (10): Conv2d(128, 256, kernel_size=(3, 3), stride=(1, 1), padding=(1, 1))\n",
       "    (11): ReLU(inplace=True)\n",
       "    (12): Conv2d(256, 256, kernel_size=(3, 3), stride=(1, 1), padding=(1, 1))\n",
       "    (13): ReLU(inplace=True)\n",
       "    (14): Conv2d(256, 256, kernel_size=(3, 3), stride=(1, 1), padding=(1, 1))\n",
       "    (15): ReLU(inplace=True)\n",
       "    (16): MaxPool2d(kernel_size=2, stride=2, padding=0, dilation=1, ceil_mode=False)\n",
       "    (17): Conv2d(256, 512, kernel_size=(3, 3), stride=(1, 1), padding=(1, 1))\n",
       "    (18): ReLU(inplace=True)\n",
       "    (19): Conv2d(512, 512, kernel_size=(3, 3), stride=(1, 1), padding=(1, 1))\n",
       "    (20): ReLU(inplace=True)\n",
       "    (21): Conv2d(512, 512, kernel_size=(3, 3), stride=(1, 1), padding=(1, 1))\n",
       "    (22): ReLU(inplace=True)\n",
       "    (23): MaxPool2d(kernel_size=2, stride=2, padding=0, dilation=1, ceil_mode=False)\n",
       "    (24): Conv2d(512, 512, kernel_size=(3, 3), stride=(1, 1), padding=(1, 1))\n",
       "    (25): ReLU(inplace=True)\n",
       "    (26): Conv2d(512, 512, kernel_size=(3, 3), stride=(1, 1), padding=(1, 1))\n",
       "    (27): ReLU(inplace=True)\n",
       "    (28): Conv2d(512, 512, kernel_size=(3, 3), stride=(1, 1), padding=(1, 1))\n",
       "    (29): ReLU(inplace=True)\n",
       "    (30): MaxPool2d(kernel_size=2, stride=2, padding=0, dilation=1, ceil_mode=False)\n",
       "  )\n",
       "  (avgpool): AdaptiveAvgPool2d(output_size=(7, 7))\n",
       "  (classifier): Sequential(\n",
       "    (0): Linear(in_features=25088, out_features=1024, bias=True)\n",
       "    (1): ReLU()\n",
       "    (2): Dropout(p=0.4, inplace=False)\n",
       "    (3): Linear(in_features=1024, out_features=50, bias=True)\n",
       "  )\n",
       ")"
      ]
     },
     "execution_count": 54,
     "metadata": {},
     "output_type": "execute_result"
    }
   ],
   "source": [
    "model"
   ]
  },
  {
   "cell_type": "code",
   "execution_count": 40,
   "metadata": {
    "execution": {
     "iopub.execute_input": "2023-09-16T18:58:25.913772Z",
     "iopub.status.busy": "2023-09-16T18:58:25.913384Z",
     "iopub.status.idle": "2023-09-16T18:58:25.920479Z",
     "shell.execute_reply": "2023-09-16T18:58:25.919368Z",
     "shell.execute_reply.started": "2023-09-16T18:58:25.913738Z"
    }
   },
   "outputs": [
    {
     "data": {
      "text/plain": [
       "25088"
      ]
     },
     "execution_count": 40,
     "metadata": {},
     "output_type": "execute_result"
    }
   ],
   "source": [
    "n_features = model.classifier[0].in_features\n",
    "n_features"
   ]
  },
  {
   "cell_type": "code",
   "execution_count": 75,
   "metadata": {
    "execution": {
     "iopub.execute_input": "2023-09-16T19:37:55.512765Z",
     "iopub.status.busy": "2023-09-16T19:37:55.512321Z",
     "iopub.status.idle": "2023-09-16T19:37:55.642108Z",
     "shell.execute_reply": "2023-09-16T19:37:55.641041Z",
     "shell.execute_reply.started": "2023-09-16T19:37:55.512728Z"
    }
   },
   "outputs": [],
   "source": [
    "model.classifier = nn.Sequential(\n",
    "     nn.Linear(n_features, 512),\n",
    "     nn.ReLU(),\n",
    "     nn.Dropout(0.4),\n",
    "     nn.Linear(512, targets_size),\n",
    " )"
   ]
  },
  {
   "cell_type": "markdown",
   "metadata": {},
   "source": [
    "### Original Modeling"
   ]
  },
  {
   "cell_type": "code",
   "execution_count": 76,
   "metadata": {
    "execution": {
     "iopub.execute_input": "2023-09-16T19:38:01.861622Z",
     "iopub.status.busy": "2023-09-16T19:38:01.861231Z",
     "iopub.status.idle": "2023-09-16T19:38:01.868107Z",
     "shell.execute_reply": "2023-09-16T19:38:01.866805Z",
     "shell.execute_reply.started": "2023-09-16T19:38:01.861588Z"
    }
   },
   "outputs": [
    {
     "name": "stdout",
     "output_type": "stream",
     "text": [
      "cuda\n"
     ]
    }
   ],
   "source": [
    "device = torch.device(\"cuda\" if torch.cuda.is_available() else \"cpu\")\n",
    "print(device)"
   ]
  },
  {
   "cell_type": "code",
   "execution_count": 77,
   "metadata": {
    "execution": {
     "iopub.execute_input": "2023-09-16T19:38:04.452247Z",
     "iopub.status.busy": "2023-09-16T19:38:04.451816Z",
     "iopub.status.idle": "2023-09-16T19:38:04.478021Z",
     "shell.execute_reply": "2023-09-16T19:38:04.476889Z",
     "shell.execute_reply.started": "2023-09-16T19:38:04.452208Z"
    }
   },
   "outputs": [
    {
     "data": {
      "text/plain": [
       "VGG(\n",
       "  (features): Sequential(\n",
       "    (0): Conv2d(3, 64, kernel_size=(3, 3), stride=(1, 1), padding=(1, 1))\n",
       "    (1): ReLU(inplace=True)\n",
       "    (2): Conv2d(64, 64, kernel_size=(3, 3), stride=(1, 1), padding=(1, 1))\n",
       "    (3): ReLU(inplace=True)\n",
       "    (4): MaxPool2d(kernel_size=2, stride=2, padding=0, dilation=1, ceil_mode=False)\n",
       "    (5): Conv2d(64, 128, kernel_size=(3, 3), stride=(1, 1), padding=(1, 1))\n",
       "    (6): ReLU(inplace=True)\n",
       "    (7): Conv2d(128, 128, kernel_size=(3, 3), stride=(1, 1), padding=(1, 1))\n",
       "    (8): ReLU(inplace=True)\n",
       "    (9): MaxPool2d(kernel_size=2, stride=2, padding=0, dilation=1, ceil_mode=False)\n",
       "    (10): Conv2d(128, 256, kernel_size=(3, 3), stride=(1, 1), padding=(1, 1))\n",
       "    (11): ReLU(inplace=True)\n",
       "    (12): Conv2d(256, 256, kernel_size=(3, 3), stride=(1, 1), padding=(1, 1))\n",
       "    (13): ReLU(inplace=True)\n",
       "    (14): Conv2d(256, 256, kernel_size=(3, 3), stride=(1, 1), padding=(1, 1))\n",
       "    (15): ReLU(inplace=True)\n",
       "    (16): MaxPool2d(kernel_size=2, stride=2, padding=0, dilation=1, ceil_mode=False)\n",
       "    (17): Conv2d(256, 512, kernel_size=(3, 3), stride=(1, 1), padding=(1, 1))\n",
       "    (18): ReLU(inplace=True)\n",
       "    (19): Conv2d(512, 512, kernel_size=(3, 3), stride=(1, 1), padding=(1, 1))\n",
       "    (20): ReLU(inplace=True)\n",
       "    (21): Conv2d(512, 512, kernel_size=(3, 3), stride=(1, 1), padding=(1, 1))\n",
       "    (22): ReLU(inplace=True)\n",
       "    (23): MaxPool2d(kernel_size=2, stride=2, padding=0, dilation=1, ceil_mode=False)\n",
       "    (24): Conv2d(512, 512, kernel_size=(3, 3), stride=(1, 1), padding=(1, 1))\n",
       "    (25): ReLU(inplace=True)\n",
       "    (26): Conv2d(512, 512, kernel_size=(3, 3), stride=(1, 1), padding=(1, 1))\n",
       "    (27): ReLU(inplace=True)\n",
       "    (28): Conv2d(512, 512, kernel_size=(3, 3), stride=(1, 1), padding=(1, 1))\n",
       "    (29): ReLU(inplace=True)\n",
       "    (30): MaxPool2d(kernel_size=2, stride=2, padding=0, dilation=1, ceil_mode=False)\n",
       "  )\n",
       "  (avgpool): AdaptiveAvgPool2d(output_size=(7, 7))\n",
       "  (classifier): Sequential(\n",
       "    (0): Linear(in_features=25088, out_features=512, bias=True)\n",
       "    (1): ReLU()\n",
       "    (2): Dropout(p=0.4, inplace=False)\n",
       "    (3): Linear(in_features=512, out_features=50, bias=True)\n",
       "  )\n",
       ")"
      ]
     },
     "execution_count": 77,
     "metadata": {},
     "output_type": "execute_result"
    }
   ],
   "source": [
    "model.to(device)"
   ]
  },
  {
   "cell_type": "code",
   "execution_count": 44,
   "metadata": {
    "execution": {
     "iopub.execute_input": "2023-09-16T18:58:59.856918Z",
     "iopub.status.busy": "2023-09-16T18:58:59.856511Z",
     "iopub.status.idle": "2023-09-16T18:59:13.120896Z",
     "shell.execute_reply": "2023-09-16T18:59:13.119555Z",
     "shell.execute_reply.started": "2023-09-16T18:58:59.856883Z"
    }
   },
   "outputs": [
    {
     "name": "stdout",
     "output_type": "stream",
     "text": [
      "Collecting torchsummary\n",
      "  Downloading torchsummary-1.5.1-py3-none-any.whl (2.8 kB)\n",
      "Installing collected packages: torchsummary\n",
      "Successfully installed torchsummary-1.5.1\n",
      "\u001b[33mWARNING: Running pip as the 'root' user can result in broken permissions and conflicting behaviour with the system package manager. It is recommended to use a virtual environment instead: https://pip.pypa.io/warnings/venv\u001b[0m\u001b[33m\n",
      "\u001b[0mNote: you may need to restart the kernel to use updated packages.\n"
     ]
    }
   ],
   "source": [
    "pip install torchsummary"
   ]
  },
  {
   "cell_type": "code",
   "execution_count": 78,
   "metadata": {
    "execution": {
     "iopub.execute_input": "2023-09-16T19:38:07.355953Z",
     "iopub.status.busy": "2023-09-16T19:38:07.355544Z",
     "iopub.status.idle": "2023-09-16T19:38:07.375330Z",
     "shell.execute_reply": "2023-09-16T19:38:07.374098Z",
     "shell.execute_reply.started": "2023-09-16T19:38:07.355918Z"
    }
   },
   "outputs": [
    {
     "name": "stdout",
     "output_type": "stream",
     "text": [
      "----------------------------------------------------------------\n",
      "        Layer (type)               Output Shape         Param #\n",
      "================================================================\n",
      "            Conv2d-1         [-1, 64, 299, 299]           1,792\n",
      "              ReLU-2         [-1, 64, 299, 299]               0\n",
      "            Conv2d-3         [-1, 64, 299, 299]          36,928\n",
      "              ReLU-4         [-1, 64, 299, 299]               0\n",
      "         MaxPool2d-5         [-1, 64, 149, 149]               0\n",
      "            Conv2d-6        [-1, 128, 149, 149]          73,856\n",
      "              ReLU-7        [-1, 128, 149, 149]               0\n",
      "            Conv2d-8        [-1, 128, 149, 149]         147,584\n",
      "              ReLU-9        [-1, 128, 149, 149]               0\n",
      "        MaxPool2d-10          [-1, 128, 74, 74]               0\n",
      "           Conv2d-11          [-1, 256, 74, 74]         295,168\n",
      "             ReLU-12          [-1, 256, 74, 74]               0\n",
      "           Conv2d-13          [-1, 256, 74, 74]         590,080\n",
      "             ReLU-14          [-1, 256, 74, 74]               0\n",
      "           Conv2d-15          [-1, 256, 74, 74]         590,080\n",
      "             ReLU-16          [-1, 256, 74, 74]               0\n",
      "        MaxPool2d-17          [-1, 256, 37, 37]               0\n",
      "           Conv2d-18          [-1, 512, 37, 37]       1,180,160\n",
      "             ReLU-19          [-1, 512, 37, 37]               0\n",
      "           Conv2d-20          [-1, 512, 37, 37]       2,359,808\n",
      "             ReLU-21          [-1, 512, 37, 37]               0\n",
      "           Conv2d-22          [-1, 512, 37, 37]       2,359,808\n",
      "             ReLU-23          [-1, 512, 37, 37]               0\n",
      "        MaxPool2d-24          [-1, 512, 18, 18]               0\n",
      "           Conv2d-25          [-1, 512, 18, 18]       2,359,808\n",
      "             ReLU-26          [-1, 512, 18, 18]               0\n",
      "           Conv2d-27          [-1, 512, 18, 18]       2,359,808\n",
      "             ReLU-28          [-1, 512, 18, 18]               0\n",
      "           Conv2d-29          [-1, 512, 18, 18]       2,359,808\n",
      "             ReLU-30          [-1, 512, 18, 18]               0\n",
      "        MaxPool2d-31            [-1, 512, 9, 9]               0\n",
      "AdaptiveAvgPool2d-32            [-1, 512, 7, 7]               0\n",
      "           Linear-33                  [-1, 512]      12,845,568\n",
      "             ReLU-34                  [-1, 512]               0\n",
      "          Dropout-35                  [-1, 512]               0\n",
      "           Linear-36                   [-1, 50]          25,650\n",
      "================================================================\n",
      "Total params: 27,585,906\n",
      "Trainable params: 12,871,218\n",
      "Non-trainable params: 14,714,688\n",
      "----------------------------------------------------------------\n",
      "Input size (MB): 1.02\n",
      "Forward/backward pass size (MB): 385.83\n",
      "Params size (MB): 105.23\n",
      "Estimated Total Size (MB): 492.09\n",
      "----------------------------------------------------------------\n"
     ]
    }
   ],
   "source": [
    "from torchsummary import summary\n",
    " \n",
    "summary(model, (3, 299, 299))"
   ]
  },
  {
   "cell_type": "code",
   "execution_count": 79,
   "metadata": {
    "execution": {
     "iopub.execute_input": "2023-09-16T19:38:10.506367Z",
     "iopub.status.busy": "2023-09-16T19:38:10.505985Z",
     "iopub.status.idle": "2023-09-16T19:38:10.512218Z",
     "shell.execute_reply": "2023-09-16T19:38:10.511090Z",
     "shell.execute_reply.started": "2023-09-16T19:38:10.506332Z"
    }
   },
   "outputs": [],
   "source": [
    "criterion = nn.CrossEntropyLoss()  # this include softmax + cross entropy loss\n",
    "optimizer = torch.optim.Adam(model.parameters())"
   ]
  },
  {
   "cell_type": "markdown",
   "metadata": {},
   "source": [
    "### Batch Gradient Descent"
   ]
  },
  {
   "cell_type": "code",
   "execution_count": 64,
   "metadata": {
    "execution": {
     "iopub.execute_input": "2023-09-16T19:11:04.482606Z",
     "iopub.status.busy": "2023-09-16T19:11:04.482133Z",
     "iopub.status.idle": "2023-09-16T19:11:04.494410Z",
     "shell.execute_reply": "2023-09-16T19:11:04.493337Z",
     "shell.execute_reply.started": "2023-09-16T19:11:04.482565Z"
    }
   },
   "outputs": [],
   "source": [
    "def batch_gd(model, criterion, train_loader, test_laoder, epochs):\n",
    "    train_losses = np.zeros(epochs)\n",
    "    test_losses = np.zeros(epochs)\n",
    "\n",
    "    for e in range(epochs):\n",
    "\n",
    "        t0 = datetime.now()\n",
    "        train_loss = []\n",
    "        for inputs, targets in train_loader:\n",
    "           \n",
    "            inputs, targets = inputs.to(device), targets.to(device)\n",
    "            optimizer.zero_grad()\n",
    "            output = model(inputs)\n",
    "            loss = criterion(output, targets)\n",
    "            train_loss.append(loss.item())  # torch to numpy world\n",
    "            loss.backward()\n",
    "            optimizer.step()\n",
    "\n",
    "        train_loss = np.mean(train_loss)\n",
    "\n",
    "        validation_loss = []\n",
    "\n",
    "        for inputs, targets in validation_loader:\n",
    "            \n",
    "            inputs, targets = inputs.to(device), targets.to(device)\n",
    "\n",
    "            output = model(inputs)\n",
    "\n",
    "            loss = criterion(output, targets)\n",
    "\n",
    "            validation_loss.append(loss.item())  # torch to numpy world\n",
    "\n",
    "        validation_loss = np.mean(validation_loss)\n",
    "\n",
    "        train_losses[e] = train_loss\n",
    "\n",
    "        dt = datetime.now() - t0\n",
    "\n",
    "        print(f\"Epoch : {e+1}/{epochs} Train_loss:{train_loss:.3f} Duration:{dt}\")\n",
    "\n",
    "    return train_losses"
   ]
  },
  {
   "cell_type": "code",
   "execution_count": 80,
   "metadata": {
    "execution": {
     "iopub.execute_input": "2023-09-16T19:38:13.740865Z",
     "iopub.status.busy": "2023-09-16T19:38:13.740465Z",
     "iopub.status.idle": "2023-09-16T19:38:13.747593Z",
     "shell.execute_reply": "2023-09-16T19:38:13.746508Z",
     "shell.execute_reply.started": "2023-09-16T19:38:13.740811Z"
    }
   },
   "outputs": [],
   "source": [
    "batch_size = 64\n",
    "train_loader = torch.utils.data.DataLoader(\n",
    "    dataset, batch_size=batch_size, sampler=train_sampler\n",
    ")\n",
    "test_loader = torch.utils.data.DataLoader(\n",
    "    dataset, batch_size=batch_size, sampler=test_sampler\n",
    ")\n",
    "validation_loader = torch.utils.data.DataLoader(\n",
    "    dataset, batch_size=batch_size, sampler=validation_sampler\n",
    ")"
   ]
  },
  {
   "cell_type": "code",
   "execution_count": 81,
   "metadata": {
    "execution": {
     "iopub.execute_input": "2023-09-16T19:38:15.202159Z",
     "iopub.status.busy": "2023-09-16T19:38:15.201351Z",
     "iopub.status.idle": "2023-09-16T19:53:41.342367Z",
     "shell.execute_reply": "2023-09-16T19:53:41.341223Z",
     "shell.execute_reply.started": "2023-09-16T19:38:15.202112Z"
    }
   },
   "outputs": [
    {
     "name": "stdout",
     "output_type": "stream",
     "text": [
      "Epoch : 1/10 Train_loss:2.050 Duration:0:01:32.407554\n",
      "Epoch : 2/10 Train_loss:0.331 Duration:0:01:31.999672\n",
      "Epoch : 3/10 Train_loss:0.112 Duration:0:01:32.022751\n",
      "Epoch : 4/10 Train_loss:0.053 Duration:0:01:32.547045\n",
      "Epoch : 5/10 Train_loss:0.044 Duration:0:01:32.485692\n",
      "Epoch : 6/10 Train_loss:0.044 Duration:0:01:33.840270\n",
      "Epoch : 7/10 Train_loss:0.025 Duration:0:01:33.180205\n",
      "Epoch : 8/10 Train_loss:0.018 Duration:0:01:32.584225\n",
      "Epoch : 9/10 Train_loss:0.011 Duration:0:01:32.647730\n",
      "Epoch : 10/10 Train_loss:0.006 Duration:0:01:32.418004\n"
     ]
    }
   ],
   "source": [
    "train_losses = batch_gd(model, criterion, train_loader, validation_loader, 10)"
   ]
  },
  {
   "cell_type": "markdown",
   "metadata": {},
   "source": [
    "### Save the Model"
   ]
  },
  {
   "cell_type": "markdown",
   "metadata": {},
   "source": [
    "### Load Model"
   ]
  },
  {
   "cell_type": "code",
   "execution_count": null,
   "metadata": {
    "execution": {
     "iopub.execute_input": "2023-01-06T07:06:50.750796Z",
     "iopub.status.busy": "2023-01-06T07:06:50.75025Z",
     "iopub.status.idle": "2023-01-06T07:06:51.46895Z",
     "shell.execute_reply": "2023-01-06T07:06:51.467934Z",
     "shell.execute_reply.started": "2023-01-06T07:06:50.750733Z"
    }
   },
   "outputs": [],
   "source": [
    "targets_size = 50\n",
    "model = CNN(targets_size)\n",
    "model.load_state_dict(torch.load(\"plant.pt\"))\n",
    "model.eval()"
   ]
  },
  {
   "cell_type": "code",
   "execution_count": null,
   "metadata": {
    "execution": {
     "iopub.execute_input": "2023-01-06T07:06:52.142568Z",
     "iopub.status.busy": "2023-01-06T07:06:52.141635Z",
     "iopub.status.idle": "2023-01-06T07:06:52.149538Z",
     "shell.execute_reply": "2023-01-06T07:06:52.148553Z",
     "shell.execute_reply.started": "2023-01-06T07:06:52.142521Z"
    }
   },
   "outputs": [],
   "source": [
    "# %matplotlib notebook"
   ]
  },
  {
   "cell_type": "markdown",
   "metadata": {},
   "source": [
    "### Plot the loss"
   ]
  },
  {
   "cell_type": "code",
   "execution_count": 88,
   "metadata": {
    "execution": {
     "iopub.execute_input": "2023-09-16T20:00:56.656642Z",
     "iopub.status.busy": "2023-09-16T20:00:56.656221Z",
     "iopub.status.idle": "2023-09-16T20:00:56.874203Z",
     "shell.execute_reply": "2023-09-16T20:00:56.873177Z",
     "shell.execute_reply.started": "2023-09-16T20:00:56.656607Z"
    }
   },
   "outputs": [
    {
     "data": {
      "image/png": "[encoded data removed]",
      "text/plain": [
       "<Figure size 432x288 with 1 Axes>"
      ]
     },
     "metadata": {
      "needs_background": "light"
     },
     "output_type": "display_data"
    }
   ],
   "source": [
    "plt.plot(train_losses , label = 'train_loss')\n",
    "plt.xlabel('No of Epochs')\n",
    "plt.ylabel('Loss')\n",
    "plt.legend()\n",
    "plt.show()"
   ]
  },
  {
   "cell_type": "markdown",
   "metadata": {},
   "source": [
    "### Accuracy"
   ]
  },
  {
   "cell_type": "code",
   "execution_count": 84,
   "metadata": {
    "execution": {
     "iopub.execute_input": "2023-09-16T19:54:42.987342Z",
     "iopub.status.busy": "2023-09-16T19:54:42.986941Z",
     "iopub.status.idle": "2023-09-16T19:54:42.994792Z",
     "shell.execute_reply": "2023-09-16T19:54:42.993668Z",
     "shell.execute_reply.started": "2023-09-16T19:54:42.987308Z"
    }
   },
   "outputs": [],
   "source": [
    "def accuracy(loader):\n",
    "    n_correct = 0\n",
    "    n_total = 0\n",
    "    model.cuda()\n",
    "    for inputs, targets in loader:\n",
    "        inputs, targets = inputs.cuda(), targets.cuda()\n",
    "\n",
    "        outputs = model(inputs)\n",
    "        #print(outputs)\n",
    "\n",
    "        _, predictions = torch.max(outputs, 1)\n",
    "\n",
    "        n_correct += (predictions == targets).sum().item()\n",
    "        n_total += targets.shape[0]\n",
    "\n",
    "    acc = n_correct / n_total\n",
    "    return acc"
   ]
  },
  {
   "cell_type": "code",
   "execution_count": 86,
   "metadata": {
    "execution": {
     "iopub.execute_input": "2023-09-16T19:57:20.515897Z",
     "iopub.status.busy": "2023-09-16T19:57:20.515480Z",
     "iopub.status.idle": "2023-09-16T19:59:34.938013Z",
     "shell.execute_reply": "2023-09-16T19:59:34.936892Z",
     "shell.execute_reply.started": "2023-09-16T19:57:20.515850Z"
    }
   },
   "outputs": [],
   "source": [
    "train_acc = accuracy(train_loader)\n",
    "test_acc = accuracy(test_loader)\n",
    "validation_acc = accuracy(validation_loader)"
   ]
  },
  {
   "cell_type": "code",
   "execution_count": 87,
   "metadata": {
    "execution": {
     "iopub.execute_input": "2023-09-16T20:00:20.677567Z",
     "iopub.status.busy": "2023-09-16T20:00:20.676487Z",
     "iopub.status.idle": "2023-09-16T20:00:20.683266Z",
     "shell.execute_reply": "2023-09-16T20:00:20.682150Z",
     "shell.execute_reply.started": "2023-09-16T20:00:20.677519Z"
    }
   },
   "outputs": [
    {
     "name": "stdout",
     "output_type": "stream",
     "text": [
      "Train Accuracy : 1.0\n",
      "Test Accuracy : 0.9065255731922398\n",
      "Validation Accuracy : 0.8884239888423989\n"
     ]
    }
   ],
   "source": [
    "print(\n",
    "    f\"Train Accuracy : {train_acc}\\nTest Accuracy : {test_acc}\\nValidation Accuracy : {validation_acc}\"\n",
    ")"
   ]
  },
  {
   "cell_type": "code",
   "execution_count": 99,
   "metadata": {
    "execution": {
     "iopub.execute_input": "2023-09-16T20:07:16.932070Z",
     "iopub.status.busy": "2023-09-16T20:07:16.930680Z",
     "iopub.status.idle": "2023-09-16T20:07:17.174533Z",
     "shell.execute_reply": "2023-09-16T20:07:17.173464Z",
     "shell.execute_reply.started": "2023-09-16T20:07:16.932016Z"
    }
   },
   "outputs": [],
   "source": [
    "torch.save(model, \"PlantMed.pt\")"
   ]
  },
  {
   "cell_type": "code",
   "execution_count": 101,
   "metadata": {
    "execution": {
     "iopub.execute_input": "2023-09-16T20:08:57.936638Z",
     "iopub.status.busy": "2023-09-16T20:08:57.936182Z",
     "iopub.status.idle": "2023-09-16T20:08:59.707955Z",
     "shell.execute_reply": "2023-09-16T20:08:59.706322Z",
     "shell.execute_reply.started": "2023-09-16T20:08:57.936598Z"
    }
   },
   "outputs": [
    {
     "ename": "RuntimeError",
     "evalue": "Error(s) in loading state_dict for VGG:\n\tMissing key(s) in state_dict: \"classifier.6.weight\", \"classifier.6.bias\". \n\tsize mismatch for classifier.0.weight: copying a param with shape torch.Size([512, 25088]) from checkpoint, the shape in current model is torch.Size([4096, 25088]).\n\tsize mismatch for classifier.0.bias: copying a param with shape torch.Size([512]) from checkpoint, the shape in current model is torch.Size([4096]).\n\tsize mismatch for classifier.3.weight: copying a param with shape torch.Size([50, 512]) from checkpoint, the shape in current model is torch.Size([4096, 4096]).\n\tsize mismatch for classifier.3.bias: copying a param with shape torch.Size([50]) from checkpoint, the shape in current model is torch.Size([4096]).",
     "output_type": "error",
     "traceback": [
      "\u001b[0;31m---------------------------------------------------------------------------\u001b[0m",
      "\u001b[0;31mRuntimeError\u001b[0m                              Traceback (most recent call last)",
      "\u001b[0;32m/tmp/ipykernel_25/4210388601.py\u001b[0m in \u001b[0;36m<module>\u001b[0;34m\u001b[0m\n\u001b[1;32m      2\u001b[0m \u001b[0;34m\u001b[0m\u001b[0m\n\u001b[1;32m      3\u001b[0m \u001b[0;31m# Load the model weights from the saved file\u001b[0m\u001b[0;34m\u001b[0m\u001b[0;34m\u001b[0m\u001b[0;34m\u001b[0m\u001b[0m\n\u001b[0;32m----> 4\u001b[0;31m \u001b[0mmodel\u001b[0m\u001b[0;34m.\u001b[0m\u001b[0mload_state_dict\u001b[0m\u001b[0;34m(\u001b[0m\u001b[0mtorch\u001b[0m\u001b[0;34m.\u001b[0m\u001b[0mload\u001b[0m\u001b[0;34m(\u001b[0m\u001b[0;34m'PlantMed.pt'\u001b[0m\u001b[0;34m,\u001b[0m \u001b[0mmap_location\u001b[0m\u001b[0;34m=\u001b[0m\u001b[0mtorch\u001b[0m\u001b[0;34m.\u001b[0m\u001b[0mdevice\u001b[0m\u001b[0;34m(\u001b[0m\u001b[0;34m'cpu'\u001b[0m\u001b[0;34m)\u001b[0m\u001b[0;34m)\u001b[0m\u001b[0;34m)\u001b[0m\u001b[0;34m\u001b[0m\u001b[0;34m\u001b[0m\u001b[0m\n\u001b[0m\u001b[1;32m      5\u001b[0m \u001b[0;34m\u001b[0m\u001b[0m\n\u001b[1;32m      6\u001b[0m \u001b[0;31m# Set the model to evaluation mode\u001b[0m\u001b[0;34m\u001b[0m\u001b[0;34m\u001b[0m\u001b[0;34m\u001b[0m\u001b[0m\n",
      "\u001b[0;32m/opt/conda/lib/python3.7/site-packages/torch/nn/modules/module.py\u001b[0m in \u001b[0;36mload_state_dict\u001b[0;34m(self, state_dict, strict)\u001b[0m\n\u001b[1;32m   1496\u001b[0m         \u001b[0;32mif\u001b[0m \u001b[0mlen\u001b[0m\u001b[0;34m(\u001b[0m\u001b[0merror_msgs\u001b[0m\u001b[0;34m)\u001b[0m \u001b[0;34m>\u001b[0m \u001b[0;36m0\u001b[0m\u001b[0;34m:\u001b[0m\u001b[0;34m\u001b[0m\u001b[0;34m\u001b[0m\u001b[0m\n\u001b[1;32m   1497\u001b[0m             raise RuntimeError('Error(s) in loading state_dict for {}:\\n\\t{}'.format(\n\u001b[0;32m-> 1498\u001b[0;31m                                self.__class__.__name__, \"\\n\\t\".join(error_msgs)))\n\u001b[0m\u001b[1;32m   1499\u001b[0m         \u001b[0;32mreturn\u001b[0m \u001b[0m_IncompatibleKeys\u001b[0m\u001b[0;34m(\u001b[0m\u001b[0mmissing_keys\u001b[0m\u001b[0;34m,\u001b[0m \u001b[0munexpected_keys\u001b[0m\u001b[0;34m)\u001b[0m\u001b[0;34m\u001b[0m\u001b[0;34m\u001b[0m\u001b[0m\n\u001b[1;32m   1500\u001b[0m \u001b[0;34m\u001b[0m\u001b[0m\n",
      "\u001b[0;31mRuntimeError\u001b[0m: Error(s) in loading state_dict for VGG:\n\tMissing key(s) in state_dict: \"classifier.6.weight\", \"classifier.6.bias\". \n\tsize mismatch for classifier.0.weight: copying a param with shape torch.Size([512, 25088]) from checkpoint, the shape in current model is torch.Size([4096, 25088]).\n\tsize mismatch for classifier.0.bias: copying a param with shape torch.Size([512]) from checkpoint, the shape in current model is torch.Size([4096]).\n\tsize mismatch for classifier.3.weight: copying a param with shape torch.Size([50, 512]) from checkpoint, the shape in current model is torch.Size([4096, 4096]).\n\tsize mismatch for classifier.3.bias: copying a param with shape torch.Size([50]) from checkpoint, the shape in current model is torch.Size([4096])."
     ]
    }
   ],
   "source": [
    "model = models.vgg16(pretrained=True)\n",
    "\n",
    "# Load the model weights from the saved file\n",
    "model.load_state_dict(torch.load('PlantMed.pt', map_location=torch.device('cpu')))\n",
    "\n",
    "# Set the model to evaluation mode\n",
    "model.eval()"
   ]
  },
  {
   "cell_type": "code",
   "execution_count": 90,
   "metadata": {
    "execution": {
     "iopub.execute_input": "2023-09-16T20:01:16.341483Z",
     "iopub.status.busy": "2023-09-16T20:01:16.341075Z",
     "iopub.status.idle": "2023-09-16T20:01:16.348103Z",
     "shell.execute_reply": "2023-09-16T20:01:16.346883Z",
     "shell.execute_reply.started": "2023-09-16T20:01:16.341445Z"
    }
   },
   "outputs": [],
   "source": [
    "from PIL import Image"
   ]
  },
  {
   "cell_type": "code",
   "execution_count": null,
   "metadata": {},
   "outputs": [],
   "source": []
  }
 ],
 "metadata": {
  "kernelspec": {
   "display_name": "Python 3 (ipykernel)",
   "language": "python",
   "name": "python3"
  },
  "language_info": {
   "codemirror_mode": {
    "name": "ipython",
    "version": 3
   },
   "file_extension": ".py",
   "mimetype": "text/x-python",
   "name": "python",
   "nbconvert_exporter": "python",
   "pygments_lexer": "ipython3",
   "version": "3.9.12"
  }
 },
 "nbformat": 4,
 "nbformat_minor": 4
}
